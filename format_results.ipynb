{
 "cells": [
  {
   "cell_type": "markdown",
   "metadata": {},
   "source": [
    "### Getting tables with means and standard deviations"
   ]
  },
  {
   "cell_type": "code",
   "execution_count": null,
   "metadata": {},
   "outputs": [],
   "source": [
    "import numpy as np\n",
    "import pandas as pd\n",
    "\n",
    "filename = \"results.csv\"\n",
    "\n",
    "# Training dataset size\n",
    "m = 50000\n",
    "\n",
    "df = pd.read_csv(filename).fillna(method=\"ffill\")\n",
    "# Separate correlations from the rest, since we don't compute means/std for them.\n",
    "cor_df = df[df[\"Space\"] == \"correlation_space\"]\n",
    "df = df[df[\"Space\"] != \"correlation_space\"].drop(columns=[\"Space\"])\n",
    "\n",
    "\n",
    "# Dataframe with the complexity measures (i.e. big values).\n",
    "name_seed = df[\"Model\"].str.rsplit('_', n=1)\n",
    "df[\"Model_Name\"] = name_seed.str[0]\n",
    "df.drop(columns=[\"Model\"], inplace=True)\n",
    "\n",
    "\n",
    "\n",
    "# Dataframe with the smaller values (i.e, instead of the `init` and `orig` complexity measures, we compute the actual generalization bounds).\n",
    "def get_generalization_bound(value):\n",
    "    return np.sqrt(value / (2*(m-1)))\n",
    "\n",
    "complexity_metrics_to_change = [\"sharpness_init\", \"sharpness_orig\", \"sharpness_mag_init\", \"sharpness_mag_orig\", \"flatness_init\", \"flatness_orig\", \"flatness_mag_init\", \"flatness_mag_orig\"]\n",
    "df_gen_bounds = df.copy(deep=True)\n",
    "\n",
    "df_gen_bounds['Value'] = df_gen_bounds.apply(lambda row: get_generalization_bound(row['Value']) if row['Metric'] in complexity_metrics_to_change else row['Value'], axis=1)\n",
    "df_gen_bounds['Metric'] = df_gen_bounds['Metric'].apply(lambda x: 'bound_' + x if x in complexity_metrics_to_change else x)"
   ]
  },
  {
   "cell_type": "code",
   "execution_count": null,
   "metadata": {},
   "outputs": [],
   "source": [
    "grouped_df = df.groupby([\"Model_Name\", \"Metric\"])[\"Value\"].agg([\"mean\", \"std\"]).round(3)\n",
    "grouped_df.to_csv(\"results_avg_std.csv\")\n",
    "grouped_df.head(20)"
   ]
  },
  {
   "cell_type": "code",
   "execution_count": null,
   "metadata": {},
   "outputs": [],
   "source": [
    "# Alternative presentation of the results\n",
    "unstacked_df = grouped_df.unstack(level='Model_Name')\n",
    "unstacked_df.columns = unstacked_df.columns.reorder_levels([1, 0])\n",
    "unstacked_df = unstacked_df.sort_index(axis=1)\n",
    "unstacked_df.head(20)"
   ]
  },
  {
   "cell_type": "code",
   "execution_count": null,
   "metadata": {},
   "outputs": [],
   "source": [
    "grouped_bounds_df = df_gen_bounds.groupby([\"Model_Name\", \"Metric\"])[\"Value\"].agg([\"mean\", \"std\"]).round(3)\n",
    "grouped_df.to_csv(\"results_bounds.csv\")\n",
    "grouped_bounds_df.head(20)"
   ]
  },
  {
   "cell_type": "code",
   "execution_count": null,
   "metadata": {},
   "outputs": [],
   "source": [
    "# Alternative presentation of the results\n",
    "unstacked_bound_df = grouped_bounds_df.unstack(level='Model_Name')\n",
    "unstacked_bound_df.columns = unstacked_bound_df.columns.reorder_levels([1, 0])\n",
    "unstacked_bound_df = unstacked_bound_df.sort_index(axis=1)\n",
    "unstacked_bound_df.head(20)"
   ]
  },
  {
   "cell_type": "markdown",
   "metadata": {},
   "source": [
    "### Copy the latex table to clipboard"
   ]
  },
  {
   "cell_type": "code",
   "execution_count": null,
   "metadata": {},
   "outputs": [],
   "source": [
    "import subprocess\n",
    "\n",
    "# Pick the latex table you want to copy.\n",
    "latex_output = unstacked_df.to_latex()\n",
    "# When using Mac, we can copy directly to clipboard.\n",
    "subprocess.run('pbcopy', universal_newlines=True, input=latex_output)"
   ]
  }
 ],
 "metadata": {
  "kernelspec": {
   "display_name": "slt-ce",
   "language": "python",
   "name": "python3"
  },
  "language_info": {
   "codemirror_mode": {
    "name": "ipython",
    "version": 3
   },
   "file_extension": ".py",
   "mimetype": "text/x-python",
   "name": "python",
   "nbconvert_exporter": "python",
   "pygments_lexer": "ipython3",
   "version": "3.8.16"
  }
 },
 "nbformat": 4,
 "nbformat_minor": 2
}
